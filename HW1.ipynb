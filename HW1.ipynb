{
 "cells": [
  {
   "cell_type": "markdown",
   "metadata": {},
   "source": [
    "## Homework 1 - Python Practice (Data Structures, Fall 2022)\n",
    "\n",
    "### Name: 歐佳昀\n",
    "### Student ID Number: 110590450\n",
    "\n",
    "### Problem 1\n",
    "Consider the following code. Suppose that you are given a list $A$ of integers, say $A = [2, 44, 25, 75, 33, 56, 85, 16, 98, 64]$. To complete the script, please write **one line** of Python that takes $A$ and makes a new list having only the even integers of list $A$ in it.\n",
    "\n"
   ]
  },
  {
   "cell_type": "code",
   "execution_count": 4,
   "metadata": {},
   "outputs": [
    {
     "name": "stdout",
     "output_type": "stream",
     "text": [
      "[4, 16, 36, 64, 100]\n"
     ]
    }
   ],
   "source": [
    "A = [1, 4, 9, 16, 25, 36, 49, 64, 81, 100]\n",
    "\n",
    "# please provide one line of Python that takes 𝐴 and makes a new list having only the even intergers of list 𝐴.\n",
    "B = list(filter(lambda x: (x % 2 == 0), A))\n",
    "print(B)"
   ]
  },
  {
   "cell_type": "markdown",
   "metadata": {},
   "source": [
    "### Problem 2\n",
    "\n",
    "Suppose that there are two lists $A$ and $B$ (may not be sorted) of different sizes and we would like to list the elements that are in both lists. Note that there will be no duplicated elements in the resulting list. For example, two given lists $A$ and $B$ are as below:  \n",
    "$A$ = [23, 27, 7, 28, 15, 22, 21, 25, 19, 10, 11, 26, 27]  \n",
    "$B$ = [29, 26, 6, 16, 10, 1, 7, 18, 28, 3, 24, 27, 14, 12, 4, 21].  \n",
    "The resulting list will be  \n",
    "[27, 7, 28, 21, 10, 26].  \n",
    "\n",
    "In this exercise, you need to first generate two lists $A$ and $B$ randomly with different sizes. One can use [Python random documentation](https://docs.python.org/3.0/library/random.html) to figure out how to generate a random list. Below shows a line of code that produces a list of 20 random numbers within 0 to 99.  \n",
    "    `A = [random.randint(1, 100) for i in range(20)]`  \n",
    "Then, write as few lines as possible to generate a list that contains only the elements in both generated lists without duplicates."
   ]
  },
  {
   "cell_type": "code",
   "execution_count": 5,
   "metadata": {},
   "outputs": [
    {
     "name": "stdout",
     "output_type": "stream",
     "text": [
      "The generated two lists A and B:\n",
      "A= [42, 31, 78, 84, 46, 97, 75, 33, 80, 37, 100, 52, 39, 18, 64, 76, 81, 22, 78, 22]\n",
      "B= [33, 8, 31, 76, 3, 13, 12, 55, 14, 32, 72, 16, 91, 29, 74, 47, 93, 67, 92, 23]\n",
      "Overlaps with duplicates: [31, 33, 76]\n",
      "Resulting list: [31, 33, 76]\n"
     ]
    }
   ],
   "source": [
    "# generate two lists A and B randomly\n",
    "\n",
    "\n",
    "# generate a list that contains only the elements in both generated lists without duplicates\n",
    "# using as few lines as possible \n",
    "\n",
    "import random\n",
    "\n",
    "\n",
    "A = [random.randint(1,100)for i in range(20)]\n",
    "B = [random.randint(1,100)for i in range(20)]\n",
    "\n",
    "common = [x for x in A if x in B]\n",
    "result = list({}.fromkeys(common).keys())\n",
    "#result = set(common) ##會排序，跟原本範例輸出有差\n",
    "\n",
    "print('The generated two lists A and B:')\n",
    "print('A=', A)\n",
    "print('B=', B)\n",
    "print('Overlaps with duplicates:', common)\n",
    "print('Resulting list:', result)\n",
    "\n"
   ]
  },
  {
   "cell_type": "markdown",
   "metadata": {},
   "source": [
    "### Problem 3\n",
    "\n",
    "Suppose that we have a number, say 965242, and we can have a set of numbers by shuffling the digits of the given number. We now would like to find the **maximum shuffling difference** among all the numbers in that set. In other words, we want to have the difference between the maximum and minimum numbers in that set. Some examples are as below.\n",
    "1. 621951 will have the *maximum shuffling difference* 852642 because 965211 - 112569 = 852642\n",
    "2. 185338 will have the *maximum shuffling difference* 751743 because 885331 - 133588 = 751743\n",
    "3. 689015954 will have the *maximum shuffling difference* 760833 because 998655410 - 014556899 = 984098511\n",
    "\n",
    "Please write a program that first generates a number randomly with at most 13 digits and then computes the maximum shuffling difference of that generated number. The output is like following:  \n",
    "    `The given number 689015954  has the maximum shuffling difference 984098511 (= 998655410 - 014556899 ).`"
   ]
  },
  {
   "cell_type": "code",
   "execution_count": 6,
   "metadata": {},
   "outputs": [
    {
     "name": "stdout",
     "output_type": "stream",
     "text": [
      "The given number 9551518824523  has the maximum shuffling difference 8763209876322 (= 9885555432211 - 1122345555889 ).\n"
     ]
    }
   ],
   "source": [
    "import random\n",
    "\n",
    "# generate a number randomly with at most 13 digits \n",
    "\n",
    "\n",
    "# compute the maximum shuffling difference\n",
    "import random\n",
    "\n",
    "given_number = random.randrange(1000000000000,9999999999999)\n",
    "\n",
    "M = int(''.join(sorted(list(str(given_number)),key = None,reverse = True)))\n",
    "m = int(''.join(sorted(list(str(given_number)),key = None,reverse = False)))\n",
    "\n",
    "\n",
    "difference = M-m\n",
    "\n",
    "print(\"The given number\", given_number, \" has the maximum shuffling difference\",\n",
    "      difference, \"(=\", M, \"-\", m, \").\")"
   ]
  },
  {
   "cell_type": "markdown",
   "metadata": {},
   "source": [
    "### Problem 4\n",
    "Write a Python class named `Rectangle` constructed by a length and width and a method, `area()`, which will compute the area of a rectangle."
   ]
  },
  {
   "cell_type": "code",
   "execution_count": 8,
   "metadata": {},
   "outputs": [
    {
     "name": "stdout",
     "output_type": "stream",
     "text": [
      "the area of the input rectang is 120\n"
     ]
    }
   ],
   "source": [
    "#\n",
    "# Write a Python class named Rectangle constructed by a length and width \n",
    "# in addition, it has a method, area(), to compute the area of a rectangle.\n",
    "\n",
    "class Rectangle():\n",
    "    def __init__(self,length,width):\n",
    "        \n",
    "        self.length = length\n",
    "        self.width = width\n",
    "        \n",
    "    def area(self):\n",
    "        return self.length*self.width\n",
    "\n",
    "length = int(input(\"Please give the length of the rectangle:\"))\n",
    "width = int(input(\"Please give the width of the rectangle:\"))\n",
    "newRectangle = Rectangle(length, width)\n",
    "print('the area of the input rectang is', newRectangle.area())"
   ]
  },
  {
   "cell_type": "markdown",
   "metadata": {},
   "source": [
    "### Problem 5\n",
    "\n",
    "Create a Python program that will play the \"A and B\" game with a user. The game works like this:  \n",
    "One randomly generates a 4-digit number and asks the user to guess this 4-digit number. For every digit that the user guesses correctly in the correct place, the user gets an “A”.  For every digit the user guesses correctly in the wrong place, the user gets a “B”. Every time the user makes a guess, tell them how many “As” and “Bs” the user gets. The process continues until the user guesses the correct 4-digit number and the game is over. During the process, keep track of the number of guesses the user makes throughout the game and tell the user at the end.  \n",
    "\n",
    "Here is an example and suppose that the number generated by the computer is 6581. The interaction may be as below:\n",
    "\n",
    "    Welcome to the A and B Game and a 4-digit number is generated.  \n",
    "    Please guess a number: \n",
    "    >>> 6284\n",
    "    2 A, 0 B\n",
    "    >>> 2451\n",
    "    1 A, 1 B\n",
    "    ...\n",
    "Until the user guesses the correct number or enter `exit` to quit the game."
   ]
  },
  {
   "cell_type": "code",
   "execution_count": 1,
   "metadata": {},
   "outputs": [
    {
     "name": "stdout",
     "output_type": "stream",
     "text": [
      "Let's play a game of A and B\n",
      "I will generate a 4-digit number, and you have to guess the numbers one digit at a time.\n",
      "For every number in the wrong place, you get a B. For every one in the right place, you get an A.\n",
      "The game ends when you get 4 As!\n",
      "Type exit at any prompt to exit.\n",
      "You have 0 As, and 2 Bs\n",
      "0 A 2 B \n",
      "Your guess isn't quite right, try again.\n",
      "You have 0 As, and 2 Bs\n",
      "0 A 2 B \n",
      "Your guess isn't quite right, try again.\n",
      "You have 0 As, and 2 Bs\n",
      "0 A 2 B \n",
      "Your guess isn't quite right, try again.\n"
     ]
    }
   ],
   "source": [
    "import random\n",
    "\n",
    "print(\"Let's play a game of A and B\\nI will generate a 4-digit number, and you have to guess the numbers one digit at a time.\\nFor every number in the wrong place, you get a B. For every one in the right place, you get an A.\\nThe game ends when you get 4 As!\\nType exit at any prompt to exit.\")\n",
    "\n",
    "\n",
    "answer = \"\".join(str(x) for x in (random.sample (range(0,9),4)))\n",
    "    \n",
    "msg = \"Give me your best guess:\"\n",
    "guess_num = \" \"\n",
    "\n",
    "guess_num = str(input(msg))\n",
    "print(answer)\n",
    "\n",
    "while  guess_num != answer and guess_num.strip() != \"exit\":\n",
    "    \n",
    "    A = 0\n",
    "    B = 0\n",
    "    \n",
    "    for i in guess_num : \n",
    "        \n",
    "        if i in answer:\n",
    "            \n",
    "            if guess_num.find(i) == answer.find(i):\n",
    "                A += 1\n",
    "            else : \n",
    "                B += 1\n",
    "                \n",
    "    print(\"You have \" +str(A)+\" As, and \" + str(B) + \" Bs\")\n",
    "    print( str(A) + \" A \" +  str(B) + \" B \" )\n",
    "    if(A != 4 ):\n",
    "        print(\"Your guess isn't quite right, try again.\")\n",
    "    guess_num = str(input(msg))\n",
    "    \n",
    "if(guess_num == \"exit\"):\n",
    "    print(\"Sorry to see you leave after 1 guesses and the number was \" + answer)\n",
    "else:\n",
    "    print(\"Your guess is right\")\n",
    "\n",
    "\n",
    "\n",
    "\n"
   ]
  }
 ],
 "metadata": {
  "kernelspec": {
   "display_name": "Python 3.10.7 64-bit",
   "language": "python",
   "name": "python3"
  },
  "language_info": {
   "codemirror_mode": {
    "name": "ipython",
    "version": 3
   },
   "file_extension": ".py",
   "mimetype": "text/x-python",
   "name": "python",
   "nbconvert_exporter": "python",
   "pygments_lexer": "ipython3",
   "version": "3.10.7"
  },
  "vscode": {
   "interpreter": {
    "hash": "df95319d8ce4e1d89f5365ae10992bc1f65da593082b1d264e8f529830ec2f02"
   }
  }
 },
 "nbformat": 4,
 "nbformat_minor": 2
}
